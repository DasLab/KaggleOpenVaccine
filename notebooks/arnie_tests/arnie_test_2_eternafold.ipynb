{
 "cells": [
  {
   "cell_type": "code",
   "execution_count": 1,
   "metadata": {},
   "outputs": [
    {
     "name": "stdout",
     "output_type": "stream",
     "text": [
      "Populating the interactive namespace from numpy and matplotlib\n"
     ]
    },
    {
     "data": {
      "text/plain": [
       "'1.1.1'"
      ]
     },
     "execution_count": 1,
     "metadata": {},
     "output_type": "execute_result"
    }
   ],
   "source": [
    "%load_ext autoreload\n",
    "%autoreload 2\n",
    "%pylab inline\n",
    "\n",
    "import sys\n",
    "sys.path.append('/home/tunguz/arnie')\n",
    "sys.path.append('/home/tunguz')\n",
    "\n",
    "import seaborn as sns\n",
    "sns.set_context('poster')\n",
    "sns.set_style('white')\n",
    "import numpy as np\n",
    "import re\n",
    "from arnie.pfunc import pfunc\n",
    "from arnie.free_energy import free_energy\n",
    "from arnie.bpps import bpps\n",
    "from arnie.mfe import mfe\n",
    "import arnie.utils as utils\n",
    "from decimal import Decimal\n",
    "import ipynb\n",
    "from xgboost import XGBRegressor\n",
    "import xgboost as xgb\n",
    "xgb.__version__"
   ]
  },
  {
   "cell_type": "code",
   "execution_count": 2,
   "metadata": {},
   "outputs": [
    {
     "data": {
      "text/plain": [
       "'0.23.1'"
      ]
     },
     "execution_count": 2,
     "metadata": {},
     "output_type": "execute_result"
    }
   ],
   "source": [
    "import sklearn\n",
    "sklearn.__version__"
   ]
  },
  {
   "cell_type": "code",
   "execution_count": 3,
   "metadata": {},
   "outputs": [],
   "source": [
    "def convert_structure_to_bps(secstruct):\n",
    "\n",
    "    bps = []\n",
    "\n",
    "    left_delimiters = ['(','{','[']\n",
    "    right_delimiters = [')','}',']']\n",
    "\n",
    "    for (left_delim, right_delim) in list(zip(left_delimiters, right_delimiters)):\n",
    "\n",
    "        left_list = []\n",
    "        for i, char in enumerate(secstruct):\n",
    "            if char == left_delim:\n",
    "                left_list.append(i)\n",
    "\n",
    "            elif char == right_delim:\n",
    "                bps.append([left_list[-1],i])\n",
    "                left_list = left_list[:-1]\n",
    "\n",
    "        assert len(left_list)==0\n",
    "\n",
    "    return bps\n",
    "\n",
    "def secstruct_to_partner(secstruct):\n",
    "    '''Convert secondary structure string to partner array.\n",
    "    I.E. ((.)) -> [4,3,-1,1,0]\n",
    "    '''\n",
    "    bps = convert_structure_to_bps(secstruct)\n",
    "    partner_vec = -1*np.ones([len(secstruct)]) \n",
    "\n",
    "    for (i,j) in bps:\n",
    "        partner_vec[i] = j\n",
    "        partner_vec[j] = i\n",
    "\n",
    "    return partner_vec\n",
    "\n",
    "def write_bprna_string(dbn_string):\n",
    "    '''Input: dot-parenthesis string\n",
    "    Output: bpRNA-style loop type assignments'''\n",
    "    \n",
    "    pair_partners = secstruct_to_partner(dbn_string)\n",
    "    \n",
    "    #print(pair_partners)\n",
    "    bprna_string=['u']*len(dbn_string)\n",
    "\n",
    "    # assign stems\n",
    "    for s_ind, s in enumerate(dbn_string):\n",
    "        if s != '.':\n",
    "            bprna_string[s_ind] = 'S'\n",
    "                \n",
    "    # get loop regions\n",
    "    \n",
    "    while 'u' in ''.join(bprna_string):\n",
    "        #print(''.join(bprna_string))\n",
    "\n",
    "        obj = re.search(r\"uu*\", ''.join(bprna_string))\n",
    "        start_ind, end_ind = obj.start(), obj.end()\n",
    "        \n",
    "        n_open_hps = dbn_string[:start_ind].count(')') - dbn_string[:start_ind].count('(')\n",
    "        \n",
    "        if n_open_hps == 0:\n",
    "            bprna_string[start_ind:end_ind] = 'E'*(end_ind-start_ind)\n",
    "\n",
    "        else:\n",
    "\n",
    "            last_stem_pairing = int(pair_partners[start_ind - 1])\n",
    "            next_stem_pairing = int(pair_partners[end_ind ])\n",
    "            \n",
    "            if last_stem_pairing == end_ind:\n",
    "                bprna_string[start_ind:end_ind] = 'H'*(end_ind-start_ind)\n",
    "\n",
    "            elif (last_stem_pairing - 1 == next_stem_pairing):\n",
    "                bprna_string[start_ind:end_ind] = 'B'*(end_ind-start_ind)\n",
    "                \n",
    "            elif dbn_string[start_ind-1]==')' and dbn_string[end_ind]=='(':\n",
    "                bprna_string[start_ind:end_ind] = 'M'*(end_ind-start_ind)\n",
    "                \n",
    "            else:\n",
    "                if dbn_string[next_stem_pairing+1:last_stem_pairing] == '.'*(last_stem_pairing - next_stem_pairing-1):\n",
    "                    bprna_string[start_ind:end_ind] = 'I'*(end_ind-start_ind)\n",
    "                    bprna_string[next_stem_pairing+1:last_stem_pairing] = 'I'*(last_stem_pairing - next_stem_pairing-1)\n",
    "\n",
    "                else:\n",
    "                    bprna_string[start_ind:end_ind] = 'M'*(end_ind - start_ind)\n",
    "    return ''.join(bprna_string)\n",
    "\n",
    "\n",
    "\n",
    "\n"
   ]
  },
  {
   "cell_type": "code",
   "execution_count": 14,
   "metadata": {},
   "outputs": [],
   "source": [
    "def encode_input(sequence, bprna_string, window_size=1, pad=0):\n",
    "    '''Creat input/output for regression model for predicting structure probing data.\n",
    "    Inputs:\n",
    "    \n",
    "    dataframe (in EternaBench RDAT format)\n",
    "    window_size: size of window (in one direction). so window_size=1 is a total window size of 3\n",
    "    pad: number of nucleotides at start to not include\n",
    "    seq (bool): include sequence encoding\n",
    "    struct (bool): include bpRNA structure encoding\n",
    "    \n",
    "    Outputs:\n",
    "    Input array (n_samples x n_features): array of windowed input features\n",
    "    feature_names (list, length = kernel x window): feature names, i.e. `S_-12`\n",
    "    \n",
    "    '''    \n",
    "    inpts = []\n",
    "\n",
    "    feature_kernel=['A','U','G','C','H','E','I','M','B','S', 'X']\n",
    "\n",
    "    length = len(sequence)\n",
    "    arr = np.zeros([length,len(feature_kernel)])\n",
    "        \n",
    "    for index in range(length):\n",
    "        ctr=0\n",
    "        for char in ['A','U','G','C']:\n",
    "            if sequence[index]==char:\n",
    "                arr[index,ctr]+=1\n",
    "            ctr+=1\n",
    "\n",
    "        for char in ['H','E','I','M','B','S', 'X']:\n",
    "            if bprna_string[index]==char:\n",
    "                arr[index,ctr]+=1\n",
    "            ctr+=1\n",
    "\n",
    "        # add zero padding to the side\n",
    "\n",
    "    padded_arr = np.vstack([np.zeros([window_size,len(feature_kernel)]), arr, np.zeros([window_size,len(feature_kernel)])])\n",
    "\n",
    "    for index in range(length):\n",
    "        new_index = index+window_size-pad\n",
    "        tmp = padded_arr[new_index-window_size:new_index+window_size+1]\n",
    "        inpts.append(tmp.flatten())\n",
    "            \n",
    "    return np.array(inpts)"
   ]
  },
  {
   "cell_type": "code",
   "execution_count": 4,
   "metadata": {},
   "outputs": [],
   "source": [
    "sequence = \"CGCUGUCUGUACUUGUAUCAGUACACUGACGAGUCCCUAAAGGACGAAACAGCG\""
   ]
  },
  {
   "cell_type": "code",
   "execution_count": 5,
   "metadata": {},
   "outputs": [
    {
     "name": "stdout",
     "output_type": "stream",
     "text": [
      "(((((((((((((......))))))..)....((((.....))))...))))))\n"
     ]
    }
   ],
   "source": [
    "mfe_structure = mfe(sequence, package='eternafold')\n",
    "print(mfe_structure)"
   ]
  },
  {
   "cell_type": "code",
   "execution_count": 8,
   "metadata": {},
   "outputs": [
    {
     "data": {
      "text/plain": [
       "'SSSSSSMSSSSSSHHHHHHSSSSSSMMMMMMMSSSSHHHHHSSSSMMMSSSSSS'"
      ]
     },
     "execution_count": 8,
     "metadata": {},
     "output_type": "execute_result"
    }
   ],
   "source": [
    "write_bprna_string(mfe_structure)"
   ]
  },
  {
   "cell_type": "code",
   "execution_count": 6,
   "metadata": {},
   "outputs": [
    {
     "data": {
      "text/plain": [
       "'SSSSSSSSSSSSSHHHHHHSSSSSSBBSMMMMSSSSHHHHHSSSSMMMSSSSSS'"
      ]
     },
     "execution_count": 6,
     "metadata": {},
     "output_type": "execute_result"
    }
   ],
   "source": [
    "write_bprna_string(mfe_structure)"
   ]
  },
  {
   "cell_type": "code",
   "execution_count": 7,
   "metadata": {},
   "outputs": [],
   "source": [
    "big_sequence = 'AUGUUCGUCUUCCUCGUCUUGCUGCCCCUGGUCAGCUCUCAGUGUGUGAACCUUACGACUCGCACGCAGCUGCCCCCUGCAUAUACUAACUCUUUCACGCGAGGGGUGUACUAUCCGGACAAGGUAUUCAGAAGCUCCGUGCUGCAUAGCACACAGGAUCUGUUCUUGCCGUUCUUCAGUAAUGUAACAUGGUUUCACGCCAUUCAUGUCUCAGGCACGAAUGGAACUAAAAGGUUCGAUAACCCAGUGCUCCCGUUCAAUGAUGGGGUGUACUUCGCGAGUACAGAGAAAAGCAACAUAAUCCGGGGCUGGAUUUUCGGGACGACGUUGGAUUCUAAGACCCAAAGCCUUCUUAUCGUUAACAACGCGACGAACGUCGUCAUAAAGGUGUGCGAAUUUCAGUUUUGUAACGAUCCGUUUCUCGGUGUGUACUACCAUAAGAAUAACAAGUCUUGGAUGGAAUCAGAAUUUAGGGUCUACAGUUCAGCAAAUAACUGUACUUUUGAGUAUGUAAGCCAGCCUUUCCUCAUGGAUCUCGAGGGAAAACAGGGCAAUUUCAAAAACUUGCGAGAGUUUGUGUUUAAAAAUAUCGACGGGUACUUCAAGAUCUAUUCCAAGCAUACUCCAAUCAAUCUGGUAAGGGAUCUGCCCCAGGGUUUCUCCGCACUCGAACCUCUUGUGGACUUGCCUAUCGGUAUCAAUAUCACACGGUUUCAAACACUUCUUGCUCUCCACAGAAGCUAUCUGACUCCAGGUGAUUCAUCCUCCGGGUGGACAGCUGGAGCCGCCGCUUAUUAUGUAGGUUACCUCCAACCACGAACUUUCCUCCUCAAGUACAACGAAAACGGCACGAUAACAGACGCUGUUGAUUGUGCGCUGGACCCCUUGAGUGAAACAAAAUGCACCCUUAAAAGUUUUACCGUGGAAAAAGGCAUAUACCAGACUAGCAAUUUCCGCGUUCAGCCAACCGAGAGUAUAGUUCGCUUCCCUAACAUUACUAAUCUUUGUCCUUUUGGCGAAGUCUUCAAUGCGACUCGAUUCGCGUCUGUAUAUGCAUGGAAUAGGAAACGAAUUAGUAACUGCGUCGCAGACUACUCAGUGUUGUACAAUAGUGCUUCCUUUUCCACCUUUAAGUGUUAUGGAGUUAGCCCAACUAAACUGAAUGACCUCUGUUUUACUAACGUCUAUGCAGAUUCCUUCGUAAUACGGGGGGACGAGGUCCGGCAAAUCGCGCCUGGGCAAACUGGGAAGAUCGCAGAUUACAACUACAAACUGCCCGAUGACUUCACAGGAUGCGUGAUUGCCUGGAACUCUAACAACUUGGAUUCCAAGGUCGGAGGCAAUUACAAUUAUUUGUAUCGAUUGUUUAGGAAAUCUAAUUUGAAGCCCUUCGAACGCGACAUCAGUACGGAGAUAUAUCAGGCCGGUAGCACCCCUUGUAAUGGCGUUGAAGGGUUUAACUGCUAUUUCCCUUUGCAAUCUUAUGGAUUUCAACCUACGAACGGUGUAGGGUACCAACCGUAUCGCGUAGUUGUGCUGAGUUUCGAGCUCUUGCAUGCCCCUGCCACAGUCUGUGGUCCGAAGAAAUCAACAAACCUUGUUAAAAAUAAGUGCGUGAAUUUUAAUUUCAACGGUCUGACAGGCACAGGAGUACUGACCGAGUCCAAUAAAAAGUUCCUCCCGUUUCAACAGUUUGGAAGGGAUAUCGCCGACACAACAGAUGCCGUACGCGACCCUCAGACUUUGGAAAUCCUUGACAUAACUCCUUGUUCCUUUGGCGGGGUAAGCGUUAUUACUCCAGGUACGAAUACCAGCAAUCAAGUCGCCGUCCUCUACCAAGAUGUAAACUGCACUGAGGUCCCUGUUGCUAUUCAUGCCGACCAACUGACCCCUACCUGGCGAGUUUAUUCAACAGGCUCCAAUGUUUUUCAAACACGAGCCGGAUGUUUGAUAGGUGCCGAGCACGUGAACAACUCCUAUGAGUGUGACAUACCCAUCGGUGCCGGCAUCUGCGCAUCUUAUCAAACUCAGACAAACAGCCCCCGAAGAGCUAGGUCCGUAGCUUCACAGUCCAUCAUCGCCUAUACGAUGUCAUUGGGAGCGGAGAACUCUGUGGCUUACUCCAAUAACAGCAUCGCUAUUCCGACAAAUUUUACUAUAAGCGUCACAACGGAAAUCUUGCCUGUAAGUAUGACAAAAACUAGCGUGGAUUGUACAAUGUACAUUUGUGGCGACUCCACGGAAUGCUCUAACUUGCUGCUUCAGUAUGGGUCCUUUUGUACGCAACUCAAUAGGGCACUGACGGGAAUAGCAGUGGAGCAAGAUAAGAAUACCCAAGAAGUCUUUGCCCAGGUUAAACAGAUAUACAAAACACCUCCGAUUAAGGACUUCGGCGGCUUUAACUUCUCUCAAAUACUUCCCGACCCCAGUAAACCAUCAAAGCGGAGCUUUAUCGAGGAUCUGCUGUUCAAUAAGGUCACACUGGCUGAUGCCGGGUUCAUCAAACAGUACGGGGACUGUCUCGGCGAUAUUGCAGCACGCGAUCUUAUCUGCGCCCAGAAGUUCAAUGGGUUGACAGUUCUCCCCCCGCUCUUGACAGAUGAAAUGAUCGCACAGUAUACCAGCGCCCUCCUGGCCGGGACAAUUACCUCCGGAUGGACUUUUGGGGCAGGUGCAGCCCUUCAGAUUCCCUUUGCAAUGCAGAUGGCCUAUCGGUUCAACGGUAUUGGCGUUACUCAAAAUGUGCUUUACGAAAACCAAAAACUGAUAGCGAACCAAUUCAAUAGUGCAAUCGGGAAGAUACAAGACUCUCUCUCAUCCACUGCAUCCGCUCUGGGAAAGCUCCAAGACGUCGUCAAUCAGAAUGCCCAGGCUCUCAACACCUUGGUGAAACAGCUUUCCUCAAACUUUGGAGCGAUAAGUAGCGUGCUUAACGAUAUCCUUUCACGACUCGACCCACCCGAGGCCGAAGUGCAGAUAGACAGACUUAUUACUGGCAGGCUGCAGUCCCUUCAGACUUAUGUUACGCAACAGCUUAUUAGGGCAGCUGAAAUAAGAGCAUCAGCCAAUUUGGCGGCUACGAAAAUGUCCGAGUGCGUCCUCGGCCAGUCUAAGAGGGUAGAUUUCUGCGGGAAGGGCUAUCAUUUGAUGAGCUUUCCUCAGUCAGCGCCACAUGGCGUUGUUUUCCUGCAUGUGACCUACGUGCCUGCCCAGGAAAAGAACUUUACCACGGCCCCUGCAAUAUGCCAUGAUGGCAAAGCACAUUUUCCCCGCGAAGGUGUUUUCGUAUCUAAUGGAACCCAUUGGUUCGUCACUCAGCGGAACUUUUACGAGCCACAGAUUAUAACCACCGACAACACUUUCGUUUCCGGCAACUGCGAUGUUGUAAUAGGGAUCGUUAACAAUACAGUGUACGACCCGCUUCAGCCCGAGCUGGACUCAUUCAAAGAGGAACUCGACAAAUAUUUCAAGAACCAUACAUCUCCGGACGUAGAUCUUGGUGAUAUAUCCGGCAUAAAUGCAUCAGUGGUUAAUAUCCAGAAGGAAAUAGAUAGACUCAACGAAGUUGCAAAGAAUCUCAAUGAGAGCCUGAUCGAUCUCCAGGAACUCGGAAAAUACGAACAAUACAUUAAAUGGCCCUGGUACAUAUGGUUGGGGUUCAUUGCCGGACUGAUCGCCAUCGUUAUGGUUACCAUUAUGUUGUGUUGCAUGACAAGUUGCUGCUCAUGUCUUAAGGGUUGUUGUAGUUGCGGCUCUUGCUGCAAAUUCGAUGAGGACGAUAGUGAGCCUGUUUUGAAGGGCGUCAAAUUGCAUUAUACUUAA'"
   ]
  },
  {
   "cell_type": "code",
   "execution_count": 8,
   "metadata": {},
   "outputs": [
    {
     "data": {
      "text/plain": [
       "3822"
      ]
     },
     "execution_count": 8,
     "metadata": {},
     "output_type": "execute_result"
    }
   ],
   "source": [
    "len(big_sequence)"
   ]
  },
  {
   "cell_type": "code",
   "execution_count": 10,
   "metadata": {},
   "outputs": [
    {
     "name": "stdout",
     "output_type": "stream",
     "text": [
      "....((((((((.(((.........(((..(.(((((....((((((((..........))))))))))))))(((((((..................)).)))))........(())....(((...((((...((((((((....)))))...))))))).....)))........(........)....(.....)((((((.(((((.))))).))))))..(.....((((....))))..)...(((((((....)))))))((((((.(())))))))....................((((.((((((......................(((((..((....))..((((.....)).(((((..)))))((........).).........(((....))))).(((.....)))(.......)(((.((((........))))...)))............)))))(((((((........)))))))......(((((((..(((.(..(((((((..((())).)))))))..)..)))........((((((....))))))..............(..............)...........)))))))(((.......)))....))))))))))((((((.(((((((.((((........(((((((((((....)))).........((((((..(.....(((((.(.......))))))......).((((((.((.(((((((...))))))))).)))))).....((.......)).((((......)))).............((((((.....((....))((((((((((((...))))).))))))).........))))))((..........))..............)))))).......((((((((.((((..((.......((.....)).......(((((..(((.........)))..))))...)((((((.....))))))(((........))).......)))))))))))))).(((((.(((((.......((((.(((((.)))))..)))).......((((....))))))))).)))))(......).........(..((.....))...).((......)).((.......)).(((....)))(((((((((...))))))))).(((.(((((((.(((((((.........(((.(((((((((((.((........)).))))..)))..)))).)))...))))))))))).))).))).........(((((((((((((.((((....(((((....)))))..((((((..(((((((........(((((((((.(((((..(((((....((.....((((.(()))))).....)).))..))))))))))))))))).......)))))).)..))))))...........((.(((((((((((...((...)).))))).)..)))))))((((.((((.....))))..))))......(((((((.)))))))(((..(((((........(((((.....))))).............)))))..)))....((.((..(((.....))).))..))...............((((.((((((....))))))))))..((((((.............))...)))).)))).))))))))).))))...((..........)).........(((((((......))))))).((((....)))).((.........)).....((........(((.....)))..))((((...(((((.......)).))).....))))((.....))...((.......)).(((((...((((.....)))).)))))((((((....(((((((((.(((((((.((.((((....))))))..)))........))))))))))))).)))))).............................(((((((.)).)))))....)))))))(((((......)))))....)))).))))))))))))).((......)).......(.....)..(((((...................(....))))))............(((.........)))..((((((((((((...))))).........).))))))...((((((.(((.((((.(((.((..(((((((.(((.........))).))))).)).)).))).)))))))))))))((...((....(((..((((((((((...((((..................)))).....)))))))))))..))))....)).........................(..(((.....((((((.(((.....))).)))))).........)))...)(((((....)))))(.........).....(((((..........(((((((.(((((((...(((((((((.((((((((((((..(((..((......)))))............(((......)))..........((((.......))))(((((.........))))).)))))))))))))))(((((((.........(((((.(((((.....(((((((((((((((....(((.((..(((.((.......)).....))))).)))...))))))))).)..)))..)).....)))))..)))))((....(((.....)))..))..))))))).((((((((((((((((((((((.))))..............((.........))))))......)))))))))........)))))))))))..)))))))...))))))).....(((.((((.......)))).)....))((((...(.(((........))).)...))))((((......))))..((((....))))(((......))).(((........)))....((((...))))...........((.(((((......))))).))((((........))))..(((.(((((.(((((((....))).)))))))))))).(((((((....)))))))(((((((((((((.....)))))......))))))))..................(((....(((((...)))))..))).....)))))(((((((((((.(((.((((.((((...))))((((((((.....((.....))...)))))))).)))).........))).)))))))))))..((((((((......)))))....(((.((((..((......))..)))))))..((((((....))))))(((.......)))......(..........)................)))..........(((((((...(((((((.....................(((....)))............((((...)))).......((((...))))((((((....)...))))..)(((.......)))............(((((((((((.(....))))))))).))))))))))...)))))))..((.(((((.))))).))........(((((((........).)))))).....))).........(((((((....)))))))...))).))))))))...(((((((........)))).))).................\n",
      "CPU times: user 11.2 ms, sys: 10.2 ms, total: 21.4 ms\n",
      "Wall time: 6min 17s\n"
     ]
    }
   ],
   "source": [
    "%%time\n",
    "mfe_structure = mfe(big_sequence, package='eternafold')\n",
    "print(mfe_structure)"
   ]
  },
  {
   "cell_type": "code",
   "execution_count": 11,
   "metadata": {},
   "outputs": [
    {
     "name": "stdout",
     "output_type": "stream",
     "text": [
      "CPU times: user 22.3 ms, sys: 6.79 ms, total: 29.1 ms\n",
      "Wall time: 28.4 ms\n"
     ]
    }
   ],
   "source": [
    "%%time\n",
    "bprna_string = write_bprna_string(mfe_structure)"
   ]
  },
  {
   "cell_type": "code",
   "execution_count": 12,
   "metadata": {},
   "outputs": [
    {
     "data": {
      "text/plain": [
       "3822"
      ]
     },
     "execution_count": 12,
     "metadata": {},
     "output_type": "execute_result"
    }
   ],
   "source": [
    "len(bprna_string)"
   ]
  },
  {
   "cell_type": "code",
   "execution_count": 15,
   "metadata": {},
   "outputs": [],
   "source": [
    "encoding = encode_input(big_sequence, bprna_string, 20, 0)"
   ]
  },
  {
   "cell_type": "code",
   "execution_count": 16,
   "metadata": {},
   "outputs": [
    {
     "data": {
      "text/plain": [
       "(3822, 451)"
      ]
     },
     "execution_count": 16,
     "metadata": {},
     "output_type": "execute_result"
    }
   ],
   "source": [
    "encoding.shape"
   ]
  },
  {
   "cell_type": "code",
   "execution_count": 17,
   "metadata": {},
   "outputs": [],
   "source": [
    "reg = XGBRegressor(n_estimators=8200, tree_method='hist', learning_rate=0.005, max_depth=7, subsample=0.8, colsample_bytree=0.9, reg_alpha=0.005)\n",
    "reg.load_model('../../model_files/bt_xgb/bt_xgb.model')"
   ]
  },
  {
   "cell_type": "code",
   "execution_count": 18,
   "metadata": {},
   "outputs": [],
   "source": [
    "predictions = reg.predict(encoding)"
   ]
  },
  {
   "cell_type": "code",
   "execution_count": 19,
   "metadata": {},
   "outputs": [
    {
     "data": {
      "text/plain": [
       "(3822,)"
      ]
     },
     "execution_count": 19,
     "metadata": {},
     "output_type": "execute_result"
    }
   ],
   "source": [
    "predictions.shape"
   ]
  },
  {
   "cell_type": "code",
   "execution_count": 20,
   "metadata": {},
   "outputs": [
    {
     "data": {
      "text/plain": [
       "array([1.2379007 , 0.35403493, 0.81165755, ..., 1.1088518 , 0.5348727 ,\n",
       "       0.5201499 ], dtype=float32)"
      ]
     },
     "execution_count": 20,
     "metadata": {},
     "output_type": "execute_result"
    }
   ],
   "source": [
    "predictions"
   ]
  },
  {
   "cell_type": "code",
   "execution_count": null,
   "metadata": {},
   "outputs": [],
   "source": []
  }
 ],
 "metadata": {
  "kernelspec": {
   "display_name": "Python 3",
   "language": "python",
   "name": "python3"
  },
  "language_info": {
   "codemirror_mode": {
    "name": "ipython",
    "version": 3
   },
   "file_extension": ".py",
   "mimetype": "text/x-python",
   "name": "python",
   "nbconvert_exporter": "python",
   "pygments_lexer": "ipython3",
   "version": "3.7.4"
  }
 },
 "nbformat": 4,
 "nbformat_minor": 4
}
